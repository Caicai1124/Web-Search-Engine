{
 "cells": [
  {
   "cell_type": "code",
   "execution_count": 32,
   "metadata": {
    "collapsed": false
   },
   "outputs": [
    {
     "name": "stdout",
     "output_type": "stream",
     "text": [
      "==============\n",
      "-----------\n",
      "http://maps.google.com/maps?um=1&ie=UTF-8&fb=1&gl=us&ll=40.7295134,-73.9964609&z=15&ftid=0x0:0xda30743171b5f305&q=new%2Byork%2Buniversity&sa=X&ved=0CBUQtQMwAGoVChMI9OC-pd7vxwIVBRweCh2UhwQb\n",
      "-----------\n",
      "/url?q=http://www.nyu.edu/&sa=U&ved=0CBgQFjAAahUKEwj04L6l3u_HAhUFHB4KHZSHBBs&usg=AFQjCNGegyDVFg8KEddyCDOB8HS5EsoclQ\n",
      "-----------\n",
      "/url?q=http://www.nyu.edu/admissions/undergraduate-admissions.html&sa=U&ved=0CCIQjBAwAWoVChMI9OC-pd7vxwIVBRweCh2UhwQb&usg=AFQjCNFIkY9JgnUvUhCyj_aOgv9gndahow\n",
      "-----------\n",
      "/url?q=https://www.nyu.edu/academics/graduate-education.html&sa=U&ved=0CCQQjBAwBGoVChMI9OC-pd7vxwIVBRweCh2UhwQb&usg=AFQjCNGUPfh3sfXJLaPKg5yTxv_SmunyDQ\n",
      "-----------\n",
      "/url?q=https://www.nyu.edu/admissions.html&sa=U&ved=0CCYQjBAwAmoVChMI9OC-pd7vxwIVBRweCh2UhwQb&usg=AFQjCNEwhmhCWnMCGdRCVt9Zxn1PT6mpUw\n",
      "-----------\n",
      "/url?q=http://www.law.nyu.edu/&sa=U&ved=0CCgQjBAwBWoVChMI9OC-pd7vxwIVBRweCh2UhwQb&usg=AFQjCNHFPAU_DZlIA8Vh-49xw0FB6HgVYQ\n",
      "-----------\n",
      "/url?q=https://www.nyu.edu/admissions/graduate-admissions.html&sa=U&ved=0CCoQjBAwA2oVChMI9OC-pd7vxwIVBRweCh2UhwQb&usg=AFQjCNFeOtDG3fK4dxalnuwZfOx19DyOfg\n",
      "-----------\n",
      "/url?q=http://www.stern.nyu.edu/&sa=U&ved=0CCwQjBAwBmoVChMI9OC-pd7vxwIVBRweCh2UhwQb&usg=AFQjCNFsgARDcE-8jcHgWEQGD5GpZ42xig\n",
      "-----------\n",
      "/url?q=https://en.wikipedia.org/wiki/New_York_University&sa=U&ved=0CC4QFjAHahUKEwj04L6l3u_HAhUFHB4KHZSHBBs&usg=AFQjCNE0nBQItn6I6nf04tvxXTsYUQIzyw\n",
      "-----------\n",
      "/url?q=https://www.facebook.com/NYU&sa=U&ved=0CDMQFjAIahUKEwj04L6l3u_HAhUFHB4KHZSHBBs&usg=AFQjCNHoNmjKujFclyuaLlwAX-NucldIgw\n",
      "-----------\n",
      "/url?q=http://colleges.usnews.rankingsandreviews.com/best-colleges/nyu-2785&sa=U&ved=0CDkQFjAJahUKEwj04L6l3u_HAhUFHB4KHZSHBBs&usg=AFQjCNE1Q54lWZVrC0PqYSbofppuqbkdOw\n",
      "-----------\n",
      "/search?q=new%2Byork%2Buniversity&ie=UTF-8&prmd=ivnsl&tbm=isch&tbo=u&source=univ&sa=X&ved=0CD8QsARqFQoTCPTgvqXe78cCFQUcHgodlIcEGw\n",
      "-----------\n",
      "/url?q=https://colleges.niche.com/new-york-university/&sa=U&ved=0CEsQFjAPahUKEwj04L6l3u_HAhUFHB4KHZSHBBs&usg=AFQjCNFftcuB7NRv0Q-qQt6zTM9qlqW4Dg\n",
      "-----------\n",
      "/url?q=http://nyupress.org/&sa=U&ved=0CFEQFjAQahUKEwj04L6l3u_HAhUFHB4KHZSHBBs&usg=AFQjCNEwV7wTRRQ3QzFTx5C1e2Ab755jog\n"
     ]
    }
   ],
   "source": [
    "import requests\n",
    "\n",
    "from bs4 import BeautifulSoup\n",
    "\n",
    "my_referer='http://www.google.com'\n",
    "\n",
    "headers = {\n",
    "    'User-Agent': 'Mozilla/5.0 (Macintosh; Intel Mac OS X 10_9_5) AppleWebKit/537.36 (KHTML, like Gecko) Chrome/44.0.2403.157 Safari/537.36',\n",
    "    'referer': 'http://www.google.com'\n",
    "}\n",
    "\n",
    "cookies = {'RMME' : 'true',\n",
    "           'ACCOUNT_CHOOSER' : 'AFx_qI6OWWcK4lZkpm70smCu2vbXPvpWFYcNBdNhibVdzkv88pKgneocw6ntYtHwqLXu109UvrhsvGLnp1FQhBwrOlyhfwrkqI_GgMbRpw1yiItKIFFO0n96IaDp54IFmMg9eBBwJYmM6c2bWExMwwyx_a1lE2Oq7yYqZyn3SJ5E32225rOh9nxn44gyKJAwQBqVvp8OSmwG',\n",
    "          'PREF=ID' : '1111111111111111:FF=0:LD=en:NW=1:TM=1401696336:LM=1436847603:GM=1:V=1:S=JgA9IbCS_lH526TJ',\n",
    "          'GoogleAccountsLocale_session':'en',\n",
    "          'HSID' : 'AZ3F7F-vAhJ3lOcjO',\n",
    "          'SSID' : 'AQXEKaqhhWbqjg-9-',\n",
    "          'APISID' : 'Pe5W9L-OC7USE12y/ATepiwz-VQY4Mn2tp',\n",
    "          'SAPISID' : 'U-Xvy_On3VILcpuX/AcJH8gcWkDlFdKiIq',\n",
    "          'SID' : 'DQAAANIBAAA2_a5lmy2EUCsdATBItw6m_fkRpYmT0QSGcoEbJVd-64vPS_SzbMZXuL3CKPudhPH4xhALJlHMx_MrMUGdCyY0XpZt9rGL5yZpscBe06zj9qVqjiprbQ5FvcWV84Ms88jA8e9TPD2BLDmAiZMQgqxJ_08A07TJYgRzUMHZ64N95YQzBS6KeWH3Rse3RyGwae9FDJnmNGw8wMmJItKNPQyUsC2KCbE8KV_DM0yo1SmBIVCDi9CZbBH8vu_gBE8L_9EbOEPHgifojxD1FQBLDZ5Sz8okRtgwfbKMokhOzJmh_OGMgD1fBEs88a98KisOpzvW3uUugCwHt6brkD6rboZ3df2hFTnprMhHB1I1nUtpMR4r8d7-KQhwtuq2m3TlFHaqlBh3OFU7nxuNpiDTCtm3ZcXozesc9CsQbo3P3oPjMuQwA3mzNwoNYgH1wyX7iCCYe0Z1xGTwTrXsxV_pj3UYYFIvt1wqTi1hV7pF6a7D257PfO4ZEx4jyCSbXaCd7GomKWb1Py6SYSfbYkp_rEAePhVHngoXnUvUIErMgvOmaEXJZa_XtXe6vVvyYy2CeoUmOESUOap3w3DR_vXf6tLGBtsO386jPr_tdSZunGhFlWJHOlgYVMeiFOrodMdH4c0',\n",
    "          'LSID' : 'cl|doritos|lso|mail|o.mail.google.com|s.blogger|s.youtube|ss|writely:DQAAANQBAADsPK5Rrhw0mPIV2TIoYMRZj_BcggDxodWtVL2rrKpIxr6o6-g1NnHgR_r-zH_68Bocq5-3PGeF4bndz7yZdp5wvW4YhAW8JiUcA6cMZK54_b5vYrCD-yPpPMVHtE4ghFYA5ZT5zYW3FPC8v9Mvj_gV01eQDUhIFF101l2mmCNV79HtH0Xw0c-HkybSSuGsMtzXNtg_1QhXpzap9qCFnOB8tDebpg3Wa9CSTUmxOj5-yBGvKH7ovZTcU3U3u2qCUIG8Ft9sdQN20ktvJwnRiYQg4s-u8xpQZ5x1KCptRxN4X8dOC6vAFLhyz_cmKAOotA79P2SrmbDdo2sCy6WjGzUf0SQt0-dMgSbWlO9pt-52di2xVzQ4pvnyCBERdaDhLjFOqqyDpYR5nAMRSbVGXGuM22Da65hKHHpRVWKuahYV58_cR6p6PiwbQ_43J5ktUeSnHAr3WifuZBFhAtEO2RLBLl1cb7ixNUwcMHiKjQLoy3uYOlfrHFSJ4QaEX6K1YiHqd9mAeSPIFGT2FDiXttVWOZtqH1RyI85chJpaUVDR1zW8cFWxrvmQXGXBrKzJW1nucPrniLf8LerXw2e3p4_VPHSnSbkReRSyoOBUDfO1UEF8-62YQeny3gf6MGQcHHA',\n",
    "          'NID' : '71=FaHimDyTfSsilZ6kBG-02eBYFr_AtuWv4GZ4gV_Uj7MbwxIvJbfZRW371nyKeV0cq8qbe5Ey91gJV2yraqFmtEVldh7DzEx9dfQNzGV20vp3Z_vMD0ADfS81Dx-waWpoA3iVGjv7XIkwYlIZvXdfmZZKavKEu-09h9TZgmLa9ttcaiLuKssGDFJswL7tbNZVJLU_jClF3Z33X6Kn33LdIBxg6riWCZkvqaDzr3HZ60XTj76epDI',\n",
    "          'GAPS' : '1:it2phkvQDW2lMEgZrCdPr_kBDn8nwQ:A77aLzproh-O7DJU'}\n",
    "\n",
    "keyword = {'q': 'new+york+university'}\n",
    "\n",
    "url = 'http://www.google.com/search?'\n",
    "\n",
    "r = requests.get(url, params = keyword)\n",
    "\n",
    "data = r.text\n",
    "\n",
    "soup = BeautifulSoup(data, 'html.parser')\n",
    "\n",
    "#for one in soup.find_all('h3'):\n",
    "#    print one\n",
    "\n",
    "print '=============='\n",
    "\n",
    "for link in soup.find_all('h3'):\n",
    "    #if link.find('a').get('href').startswith('/url?'):\n",
    "    print '-----------'\n",
    "    #print link.attrs\n",
    "    for linka in link.find_all('a'):\n",
    "        print linka.get('href')\n",
    "    #if link.find('a')['sytle'] != null:\n",
    "        #print link.find('a')['sytle']"
   ]
  },
  {
   "cell_type": "code",
   "execution_count": null,
   "metadata": {
    "collapsed": true
   },
   "outputs": [],
   "source": []
  }
 ],
 "metadata": {
  "kernelspec": {
   "display_name": "Python 2",
   "language": "python",
   "name": "python2"
  },
  "language_info": {
   "codemirror_mode": {
    "name": "ipython",
    "version": 2
   },
   "file_extension": ".py",
   "mimetype": "text/x-python",
   "name": "python",
   "nbconvert_exporter": "python",
   "pygments_lexer": "ipython2",
   "version": "2.7.9"
  }
 },
 "nbformat": 4,
 "nbformat_minor": 0
}
